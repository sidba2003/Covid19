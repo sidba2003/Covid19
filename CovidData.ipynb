{
 "cells": [
  {
   "cell_type": "code",
   "execution_count": 25,
   "id": "920ccc97",
   "metadata": {
    "ExecuteTime": {
     "end_time": "2023-09-23T20:49:33.021247400Z",
     "start_time": "2023-09-23T20:49:33.006993600Z"
    }
   },
   "outputs": [
    {
     "data": {
      "text/plain": "                                       Country  Confirmed\nCountry                                                  \nAlbania                                Albania       4880\nAndorra                                Andorra        907\nArmenia                                Armenia      37390\nAustria                                Austria      20558\nAzerbaijan                          Azerbaijan      30446\nBelarus                                Belarus      67251\nBelgium                                Belgium      66428\nBosnia and Herzegovina  Bosnia and Herzegovina      10498\nBulgaria                              Bulgaria      10621\nCroatia                                Croatia       4881\nCyprus                                  Cyprus       1060\nCzechia                                Czechia      15516\nDenmark                                Denmark      13761\nEstonia                                Estonia       2034\nFinland                                Finland       7398\nFrance                                  France     220352\nGeorgia                                Georgia       1137\nGermany                                Germany     207112\nGreece                                  Greece       4227\nGreenland                            Greenland         14\nHoly See                              Holy See         12\nHungary                                Hungary       4448\nIceland                                Iceland       1854\nIreland                                Ireland      25892\nIsrael                                  Israel      63985\nItaly                                    Italy     246286\nKazakhstan                          Kazakhstan      84648\nKosovo                                  Kosovo       7413\nKyrgyzstan                          Kyrgyzstan      33296\nLatvia                                  Latvia       1219\nLiechtenstein                    Liechtenstein         86\nLithuania                            Lithuania       2019\nLuxembourg                          Luxembourg       6321\nMalta                                    Malta        701\nMoldova                                Moldova      23154\nMonaco                                  Monaco        116\nMontenegro                          Montenegro       2893\nNetherlands                        Netherlands      53413\nNorth Macedonia                North Macedonia      10213\nNorway                                  Norway       9132\nPoland                                  Poland      43402\nPortugal                              Portugal      50299\nRomania                                Romania      45902\nRussia                                  Russia     816680\nSan Marino                          San Marino        699\nSerbia                                  Serbia      24141\nSlovakia                              Slovakia       2181\nSlovenia                              Slovenia       2087\nSpain                                    Spain     272421\nSweden                                  Sweden      79395\nSwitzerland                        Switzerland      34477\nTajikistan                          Tajikistan       7235\nTurkey                                  Turkey     227019\nUkraine                                Ukraine      67096\nUnited Kingdom                  United Kingdom     301708\nUzbekistan                          Uzbekistan      21209",
      "text/html": "<div>\n<style scoped>\n    .dataframe tbody tr th:only-of-type {\n        vertical-align: middle;\n    }\n\n    .dataframe tbody tr th {\n        vertical-align: top;\n    }\n\n    .dataframe thead th {\n        text-align: right;\n    }\n</style>\n<table border=\"1\" class=\"dataframe\">\n  <thead>\n    <tr style=\"text-align: right;\">\n      <th></th>\n      <th>Country</th>\n      <th>Confirmed</th>\n    </tr>\n    <tr>\n      <th>Country</th>\n      <th></th>\n      <th></th>\n    </tr>\n  </thead>\n  <tbody>\n    <tr>\n      <th>Albania</th>\n      <td>Albania</td>\n      <td>4880</td>\n    </tr>\n    <tr>\n      <th>Andorra</th>\n      <td>Andorra</td>\n      <td>907</td>\n    </tr>\n    <tr>\n      <th>Armenia</th>\n      <td>Armenia</td>\n      <td>37390</td>\n    </tr>\n    <tr>\n      <th>Austria</th>\n      <td>Austria</td>\n      <td>20558</td>\n    </tr>\n    <tr>\n      <th>Azerbaijan</th>\n      <td>Azerbaijan</td>\n      <td>30446</td>\n    </tr>\n    <tr>\n      <th>Belarus</th>\n      <td>Belarus</td>\n      <td>67251</td>\n    </tr>\n    <tr>\n      <th>Belgium</th>\n      <td>Belgium</td>\n      <td>66428</td>\n    </tr>\n    <tr>\n      <th>Bosnia and Herzegovina</th>\n      <td>Bosnia and Herzegovina</td>\n      <td>10498</td>\n    </tr>\n    <tr>\n      <th>Bulgaria</th>\n      <td>Bulgaria</td>\n      <td>10621</td>\n    </tr>\n    <tr>\n      <th>Croatia</th>\n      <td>Croatia</td>\n      <td>4881</td>\n    </tr>\n    <tr>\n      <th>Cyprus</th>\n      <td>Cyprus</td>\n      <td>1060</td>\n    </tr>\n    <tr>\n      <th>Czechia</th>\n      <td>Czechia</td>\n      <td>15516</td>\n    </tr>\n    <tr>\n      <th>Denmark</th>\n      <td>Denmark</td>\n      <td>13761</td>\n    </tr>\n    <tr>\n      <th>Estonia</th>\n      <td>Estonia</td>\n      <td>2034</td>\n    </tr>\n    <tr>\n      <th>Finland</th>\n      <td>Finland</td>\n      <td>7398</td>\n    </tr>\n    <tr>\n      <th>France</th>\n      <td>France</td>\n      <td>220352</td>\n    </tr>\n    <tr>\n      <th>Georgia</th>\n      <td>Georgia</td>\n      <td>1137</td>\n    </tr>\n    <tr>\n      <th>Germany</th>\n      <td>Germany</td>\n      <td>207112</td>\n    </tr>\n    <tr>\n      <th>Greece</th>\n      <td>Greece</td>\n      <td>4227</td>\n    </tr>\n    <tr>\n      <th>Greenland</th>\n      <td>Greenland</td>\n      <td>14</td>\n    </tr>\n    <tr>\n      <th>Holy See</th>\n      <td>Holy See</td>\n      <td>12</td>\n    </tr>\n    <tr>\n      <th>Hungary</th>\n      <td>Hungary</td>\n      <td>4448</td>\n    </tr>\n    <tr>\n      <th>Iceland</th>\n      <td>Iceland</td>\n      <td>1854</td>\n    </tr>\n    <tr>\n      <th>Ireland</th>\n      <td>Ireland</td>\n      <td>25892</td>\n    </tr>\n    <tr>\n      <th>Israel</th>\n      <td>Israel</td>\n      <td>63985</td>\n    </tr>\n    <tr>\n      <th>Italy</th>\n      <td>Italy</td>\n      <td>246286</td>\n    </tr>\n    <tr>\n      <th>Kazakhstan</th>\n      <td>Kazakhstan</td>\n      <td>84648</td>\n    </tr>\n    <tr>\n      <th>Kosovo</th>\n      <td>Kosovo</td>\n      <td>7413</td>\n    </tr>\n    <tr>\n      <th>Kyrgyzstan</th>\n      <td>Kyrgyzstan</td>\n      <td>33296</td>\n    </tr>\n    <tr>\n      <th>Latvia</th>\n      <td>Latvia</td>\n      <td>1219</td>\n    </tr>\n    <tr>\n      <th>Liechtenstein</th>\n      <td>Liechtenstein</td>\n      <td>86</td>\n    </tr>\n    <tr>\n      <th>Lithuania</th>\n      <td>Lithuania</td>\n      <td>2019</td>\n    </tr>\n    <tr>\n      <th>Luxembourg</th>\n      <td>Luxembourg</td>\n      <td>6321</td>\n    </tr>\n    <tr>\n      <th>Malta</th>\n      <td>Malta</td>\n      <td>701</td>\n    </tr>\n    <tr>\n      <th>Moldova</th>\n      <td>Moldova</td>\n      <td>23154</td>\n    </tr>\n    <tr>\n      <th>Monaco</th>\n      <td>Monaco</td>\n      <td>116</td>\n    </tr>\n    <tr>\n      <th>Montenegro</th>\n      <td>Montenegro</td>\n      <td>2893</td>\n    </tr>\n    <tr>\n      <th>Netherlands</th>\n      <td>Netherlands</td>\n      <td>53413</td>\n    </tr>\n    <tr>\n      <th>North Macedonia</th>\n      <td>North Macedonia</td>\n      <td>10213</td>\n    </tr>\n    <tr>\n      <th>Norway</th>\n      <td>Norway</td>\n      <td>9132</td>\n    </tr>\n    <tr>\n      <th>Poland</th>\n      <td>Poland</td>\n      <td>43402</td>\n    </tr>\n    <tr>\n      <th>Portugal</th>\n      <td>Portugal</td>\n      <td>50299</td>\n    </tr>\n    <tr>\n      <th>Romania</th>\n      <td>Romania</td>\n      <td>45902</td>\n    </tr>\n    <tr>\n      <th>Russia</th>\n      <td>Russia</td>\n      <td>816680</td>\n    </tr>\n    <tr>\n      <th>San Marino</th>\n      <td>San Marino</td>\n      <td>699</td>\n    </tr>\n    <tr>\n      <th>Serbia</th>\n      <td>Serbia</td>\n      <td>24141</td>\n    </tr>\n    <tr>\n      <th>Slovakia</th>\n      <td>Slovakia</td>\n      <td>2181</td>\n    </tr>\n    <tr>\n      <th>Slovenia</th>\n      <td>Slovenia</td>\n      <td>2087</td>\n    </tr>\n    <tr>\n      <th>Spain</th>\n      <td>Spain</td>\n      <td>272421</td>\n    </tr>\n    <tr>\n      <th>Sweden</th>\n      <td>Sweden</td>\n      <td>79395</td>\n    </tr>\n    <tr>\n      <th>Switzerland</th>\n      <td>Switzerland</td>\n      <td>34477</td>\n    </tr>\n    <tr>\n      <th>Tajikistan</th>\n      <td>Tajikistan</td>\n      <td>7235</td>\n    </tr>\n    <tr>\n      <th>Turkey</th>\n      <td>Turkey</td>\n      <td>227019</td>\n    </tr>\n    <tr>\n      <th>Ukraine</th>\n      <td>Ukraine</td>\n      <td>67096</td>\n    </tr>\n    <tr>\n      <th>United Kingdom</th>\n      <td>United Kingdom</td>\n      <td>301708</td>\n    </tr>\n    <tr>\n      <th>Uzbekistan</th>\n      <td>Uzbekistan</td>\n      <td>21209</td>\n    </tr>\n  </tbody>\n</table>\n</div>"
     },
     "execution_count": 25,
     "metadata": {},
     "output_type": "execute_result"
    }
   ],
   "source": [
    "import pandas as pd\n",
    "\n",
    "data = pd.read_csv(r\"C:\\Users\\sidme\\Desktop\\archive\\country_wise_latest.csv\")\n",
    "\n",
    "data.rename(columns={'Country/Region': 'Country', '1 week % increase': 'Weekly increase'}, inplace=True)\n",
    "data.drop(['New cases'], axis=1, inplace=True)\n",
    "\n",
    "\n",
    "europe_data = data[data['WHO Region'] == 'Europe'].groupby(['Country'])[['Country', 'Confirmed']].sum()\n",
    "\n",
    "europe_data"
   ]
  },
  {
   "cell_type": "code",
   "execution_count": 30,
   "outputs": [
    {
     "data": {
      "text/plain": "        Country\nCountry        \nUS           US",
      "text/html": "<div>\n<style scoped>\n    .dataframe tbody tr th:only-of-type {\n        vertical-align: middle;\n    }\n\n    .dataframe tbody tr th {\n        vertical-align: top;\n    }\n\n    .dataframe thead th {\n        text-align: right;\n    }\n</style>\n<table border=\"1\" class=\"dataframe\">\n  <thead>\n    <tr style=\"text-align: right;\">\n      <th></th>\n      <th>Country</th>\n    </tr>\n    <tr>\n      <th>Country</th>\n      <th></th>\n    </tr>\n  </thead>\n  <tbody>\n    <tr>\n      <th>US</th>\n      <td>US</td>\n    </tr>\n  </tbody>\n</table>\n</div>"
     },
     "execution_count": 30,
     "metadata": {},
     "output_type": "execute_result"
    }
   ],
   "source": [
    "required_record = data[data['Confirmed'] == max(data['Confirmed'])]\n",
    "required_record.groupby('Country')[['Country']].sum()"
   ],
   "metadata": {
    "collapsed": false,
    "ExecuteTime": {
     "end_time": "2023-09-23T20:52:35.645047400Z",
     "start_time": "2023-09-23T20:52:35.621035Z"
    }
   },
   "id": "139d387675f52ae"
  },
  {
   "cell_type": "code",
   "execution_count": null,
   "outputs": [],
   "source": [],
   "metadata": {
    "collapsed": false
   },
   "id": "5ae19f8621e67ea5"
  }
 ],
 "metadata": {
  "kernelspec": {
   "display_name": "Python 3 (ipykernel)",
   "language": "python",
   "name": "python3"
  },
  "language_info": {
   "codemirror_mode": {
    "name": "ipython",
    "version": 3
   },
   "file_extension": ".py",
   "mimetype": "text/x-python",
   "name": "python",
   "nbconvert_exporter": "python",
   "pygments_lexer": "ipython3",
   "version": "3.9.13"
  }
 },
 "nbformat": 4,
 "nbformat_minor": 5
}
